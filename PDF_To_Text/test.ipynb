{
 "cells": [
  {
   "cell_type": "code",
   "execution_count": 5,
   "metadata": {},
   "outputs": [],
   "source": [
    "from pypdf2_to_text import extract_text_from_pypdf2,export_lignes, extract_text_from_pdffitz"
   ]
  },
  {
   "cell_type": "code",
   "execution_count": 6,
   "metadata": {},
   "outputs": [
    {
     "name": "stdout",
     "output_type": "stream",
     "text": [
      "DR MARTIN GIROUD\n",
      "Diplômé de la faculté de Marseille36 rue de la Paix  \n",
      "13000 MarseilleMédecin généraliste\n",
      "Age: Nom Patient:\n",
      "SignaturePENSHAW\n",
      "MEDICAL\n",
      "CENTER\n",
      "Madame Dupont Germaine  59 ans\n",
      "Marseille, le 4 février 2020  \n",
      "CLAMOXYL   500 mg, 2 gélules matin et soir   \n",
      "LOSEC 20 mg, 1 gélule le matin pendant 1 mois   \n",
      "LACTIBIANE, 1 sachet dans un verre d’eau le matin pendant 20 jours.  Ordonnance\n"
     ]
    }
   ],
   "source": [
    "# Exemple d'utilisation\n",
    "pdf_file_path =  \"C:/Users/zaiss/OneDrive/Documents/GitHub/Projet_S2D/P0001/PDF/ordonnance.pdf\"\n",
    "\n",
    "extracted_text = extract_text_from_pypdf2(pdf_file_path)\n",
    "\n",
    "print(extracted_text)"
   ]
  },
  {
   "cell_type": "code",
   "execution_count": 15,
   "metadata": {},
   "outputs": [
    {
     "name": "stdout",
     "output_type": "stream",
     "text": [
      "DR MARTIN GIROUD\n",
      "Diplômé de la faculté de Marseille\n",
      "36 rue de la Paix \n",
      "13000 Marseille\n",
      "Médecin généraliste\n",
      "Age:\n",
      "Nom Patient:\n",
      "Signature\n",
      "PENSHAW\n",
      "MEDICAL\n",
      "CENTER\n",
      "Madame Dupont Germaine \n",
      "59 ans\n",
      "Marseille, le 4 février 2020 \n",
      "CLAMOXYL  500 mg, 2 gélules matin et soir  \n",
      "LOSEC 20 mg, 1 gélule le matin pendant 1 mois  \n",
      "LACTIBIANE, 1 sachet dans un verre d’eau le matin pendant 20 jours. \n",
      "Ordonnance\n",
      "\n"
     ]
    }
   ],
   "source": [
    "extracted_text = extract_text_from_pdffitz(pdf_file_path)\n",
    "print(extracted_text)"
   ]
  },
  {
   "cell_type": "code",
   "execution_count": 17,
   "metadata": {},
   "outputs": [],
   "source": [
    "import pdfplumber\n",
    "\n",
    "def extract_text_from_pdfplumber(pdf_path):\n",
    "    try:\n",
    "        with pdfplumber.open(pdf_path) as pdf:\n",
    "            num_pages = len(pdf.pages)\n",
    "            text = ''\n",
    "\n",
    "            for page_num in range(num_pages):\n",
    "                page = pdf.pages[page_num]\n",
    "                text += page.extract_text()\n",
    "\n",
    "        return text\n",
    "    except pdfplumber.PDFSyntaxError as e:\n",
    "        print(f\"Error reading PDF: {e}\")\n",
    "        return None\n"
   ]
  },
  {
   "cell_type": "code",
   "execution_count": 24,
   "metadata": {},
   "outputs": [],
   "source": [
    "pdf_file_path =  \"C:/Users/zaiss/OneDrive/Documents/GitHub/Projet_S2D/P0001/PDF/FichePatient.pdf\"\n",
    "\n",
    "extracted_text = extract_text_from_pdfplumber(pdf_file_path)"
   ]
  },
  {
   "cell_type": "code",
   "execution_count": 25,
   "metadata": {},
   "outputs": [
    {
     "data": {
      "text/plain": [
       "\"29/10/2023 13:01 Dossier médical de Mme Marie EXEMPLE\\nDocteur APPLIMED\\nmédecine générale\\n10, bd Danielle-Casanova\\n34200 SÈTE\\nTél. cabinet : 04 67 46 00 33\\nTél. domicile : 04 67 51 03 59\\nTélécopie : 09 56 08 01 46\\ncontact@applimed.fr\\nN° AM : 001012343 - N° RPPS : 12345678903\\nDossier médical de Mme Marie EXEMPLE\\nCréé le : 05/09/1995. Mis à jour le : 09/08/2012 à 11:22:48\\nDernière consultation : 03/11/2008\\nRappel Contrôler glycémie\\nFiche administrative\\nAntécédents\\nBiométrie\\nTraitement chronique\\nHistorique des consultations [>]\\nOrdonnances [>]\\nCourriers [>]\\nVaccinations [>]\\nExamens biologiques [>]\\nPlanification [>]\\nFiche administrative\\nNom EXEMPLE\\nPrénom Marie\\nDate de naissance 22/05/1939\\nLieu de naissance SÈTE\\nAdresse 2, place de la République\\n34200 SÈTE\\nTéléphone 04 67 46 00 33\\nE-mail exemple@applimed.fr\\nSituation familiale Mariée\\n2 enfants\\nProfession Retraitée\\nN° Séc. sociale 2 39 05 34 999 999 / 35\\nCaisse SÈTE\\nAssuré EXEMPLE Marie\\napplimed.free.fr/exemple.htm 1/829/10/2023 13:01 Dossier médical de Mme Marie EXEMPLE\\nParticularités ALD\\nMédecin traitant Docteur APPLIMED (12/01/2007)\\nCorrespondants DUBOIS\\nMots clés Diabète de type 2,Hypercholestérolémie,Hypertension artérielle\\nSommaire\\nAntécédents\\nAntécédents médicaux et facteurs de risque Hypertension artérielle (1975)\\nHypercholestérolémie (1983)\\nDiabète de type 2\\nAntécédents chirurgicaux et obstétricaux Appendicectomie (1946)\\nAntécédents familiaux Père : Hypertension artérielle\\nAllergies et intolérances ALLERGIE À LA PÉNICILLINE\\nSommaire\\nBiométrie\\nTaille 1,65 m\\nIMC : 23,51\\nPoids 64,0 kg\\nGroupe sanguin O Rh +\\nIndicateurs Clairance de la créatinine : 54,96 ml/mn le 11/06/2007 (MDRD) Insuffisance\\nbiologiques rénale modérée\\nHémoglobine glycosylée : 7,65 % le 22/10/2006\\nLDL cholestérol : 1,60 g/l le 11/06/2007\\nSommaire\\nTraitement chronique au 14/11/2005\\nODRIK 2 mg : une gélule par jour\\nDIAMICRON 30 mg : 1 comp. le matin\\nSommaire\\nHistorique des consultations\\nTaille Poids\\nDate Acte Motif T.A. Pouls Observation A.T.\\n(m) (kg)\\napplimed.free.fr/exemple.htm 2/829/10/2023 13:01 Dossier médical de Mme Marie EXEMPLE\\n28/09/1995 C Angine 1,65 67,0 14,0 / 88 Dysphagie douloureuse\\n8,0 depuis 48 h.\\nFièvre 38°5\\n21/01/1996 C Conjonctivite 68,0 Conjonctivite bilatérale\\nLarmoiement, pus à\\nl'angle interne\\nOrdonnance\\n27/11/1996 V Bronchite 69,0 Toux grasse, fièvre à\\n38°\\nOrdonnance\\n13/12/1996 V Lombalgie 16,0 / [Visite]\\n9,0 58 ans, 1 mois, 19 jours\\nDouleurs\\nparavertébrales D\\nLasègue 60° à D\\nROT +\\nOrdonnance\\n14/12/1996 C Renouvellement 70,0 15,0 / 76 Diabète de type 2 [E11]\\n8,0\\nCertificat\\n15/09/2005 C Gastro-entérite 64,0 14,0 / 80 [Consultation] 1 j.\\n8,0\\n66 ans, 10 mois, 20\\njours\\nEtat nauséeux, diarrhée\\n[A08.4]\\nIndice de masse\\ncorporelle : 23,80\\n(NORMAL)\\nOrdonnance\\n14/11/2005 C Douleurs 68,0 15,0 / 78 [Consultation]\\nprécordiales 9,0 66 ans, 5 mois, 23 jours\\nDouleurs précordiales\\n[R07.2]\\nOrdonnance\\nCourrier\\n03/11/2008 C Pneumopathie 1,65 64,0 14,0 / 84 [Consultation] 6 j.\\n7,0 69 ans, 5 mois, 12 jours\\nPneumopathie [A02.2]\\nSommaire\\nOrdonnances\\napplimed.free.fr/exemple.htm 3/829/10/2023 13:01 Dossier médical de Mme Marie EXEMPLE\\nDate Catégorie Prescription\\n21/01/1996 Pharmacie ** ALD **\\nASPÉGIC 1000 : 1 sachet 2 à 3 fois par jour, selon l'intensité des douleurs (1\\nbte)\\nATHYMIL 10 mg : un comp. au coucher - Q.S.P. 1 mois\\n** HORS ALD **\\nCÉBÉMYXINE pommade ophtalmique : 1 application matin et soir au bord de\\nla paupière inférieure\\n27/11/1996 Pharmacie ** ALD **\\nBRISTAMOX gél. 500 mg : 2 gélules matin et soir pendant 8 jours\\nBRONCHOKOD sans sucre sol. buv. adultes (fl. 300 ml) : une cuiller à soupe\\nmatin, midi et soir pendant 8 jours\\nDOLIPRANE comp. : 1 à 2 comp. 3 fois par jour selon les douleurs (1 bte)\\n13/12/1996 Pharmacie DIANTALVIC gélules : une à deux gélules 3 fois par jour, selon l'intensité des\\ndouleurs (1 bte)\\nMYOLASTAN comp. : un comp. le soir pendant 15 jours\\nKETUM comp. 100 mg : un comp. matin et soir au cours des repas pendant 6\\njours\\n15/09/2005 Pharmacie MOTILIUM comp. : 1 comp. matin, midi et soir, 1/4 d'heure avant les repas,\\npendant 8 jours\\nSMECTA : un sachet matin, midi et soir, avant les repas, pendant 8 jours\\nIMODIUM gél. : prendre 2 gélules d'emblée, puis une gélule après chaque selle\\nliquide (sans dépasser 5 gél. / jour)\\n14/11/2005 Biologie EXAMEN DE SANG :\\nGlycémie à jeun\\nHb A1c\\nCréatinine\\nCholestérol total et HDL\\nEXAMEN D'URINES :\\nECBU\\nGlycosurie\\nMicroalbuminurie\\nPrélèvement à domicile\\n14/11/2005 Chronique ** ALD **\\nODRIK 2 mg : une gélule par jour - Q.S.P. 1 mois\\nDIAMICRON 30 mg : 1 comp. le matin - Q.S.P. 1 mois\\napplimed.free.fr/exemple.htm 4/829/10/2023 13:01 Dossier médical de Mme Marie EXEMPLE\\nSommaire\\nCourriers et certificats\\nDate Catégorie Destinataire Texte\\n14/12/1996 Certificat\\nJe soussigné Docteur APPLIMED certifie que l'état de santé de\\nMme Marie EXEMPLE, demeurant 2, Place de la République -\\n34200 SÈTE, n° d'immatriculation : 2 28 10 34 999 999 / 72,\\njustifie le renouvellement de l'exonération du ticket modérateur\\naccordée au titre des affections de longue durée.\\nCertificat délivré à l'intéressée et destiné au contrôle médical de\\nsa Caisse d'assurance maladie.\\n14/11/2005 Courrier Docteur Cher ami,\\nJean-Claude\\nDUBOIS Je t'adresse Mme Marie EXEMPLE, âgée de 68 ans.\\nCette patiente se plaint de douleurs précordiales atypiques.\\nCompte-tenu de ses antécédents diabétiques, je lui conseille de te\\nconsulter.\\nAvec mes remerciements,\\nBien cordialement,\\n30/10/2006 Courrier Docteur Cher Confrère,\\nJean-Claude\\nDUBOIS Je vous adresse Mme Marie EXEMPLE, âgée de 72 ans, qui\\nprésente\\nAntécédents :\\nHypertension artérielle (1975)\\nHypercholestérolémie (1983)\\nDiabète de type 2\\nAppendicectomie (1946)\\nALLERGIE À LA PÉNICILLINE\\nAntécédents familiaux :\\nPère : Hypertension artérielle\\nPoids : 64,0 kg pour 1,65 m (IMC 23,51)\\napplimed.free.fr/exemple.htm 5/829/10/2023 13:01 Dossier médical de Mme Marie EXEMPLE\\nTraitement chronique au 14/11/2005\\nODRIK 2 mg : une gélule par jour\\nDIAMICRON 30 mg : 1 comp. le matin\\nConsultation du 03/11/2008 pour Pneumopathie :\\nTaille : 1,65 m Poids : 64,0 kg Pouls : 84 TA : 14 / 7\\n[Consultation]\\n69 ans, 5 mois, 12 jours\\n************************************************\\nPneumopathie [A02.2]\\nExamen biologique du 11/06/2007 :\\nHématies 4,56 (M/mm3: 4,2-5,4)\\nHémoglobine 14,8 (g/100 ml : 12-16)\\nHématocrite 43,5 (% 37-54)\\nVGM 92,4 (µ3 : 89-95)\\nLeucocytes 5520 (/mm3 : 4000-10000)\\nPN neutrophiles 59 (% : 55-70)\\nPN éosinophiles 3 (% : 0-3)\\nPN basophiles 0 (% : 0-1)\\nLymphocytes 30 (% : 20-35)\\nMonocytes 8 (% : 2-10)\\nPlaquettes 433000 (/mm3 : 150000-400000)\\nGlycémie 0,94 (g/l : 0,70-1,10)\\nCréatinine 10,5 (mg/l : 5,6-11,3)\\nCholestérol 2,81 (g/l : 1,2-2,0) **\\nCholestérol HDL 0,93 (g/l : 0,35-0,55)\\nCholestérol LDL 1,60 (g/l : < 1,60) *\\nTriglycérides 1,41 (g/l : 0,45-1,80)\\nFerritine 148 (µg / l : 30-300)\\nTSH-u.s. 3,11 (mU/l : 0,25-4,70)\\nClairance de la créatinine :\\nFormule de Cockroft-Gault : 49,70 ml/mn (insuffisance rénale\\nmodérée)\\nOrdonnance du 14/11/2005 :\\nODRIK 2 mg : une gélule par jour - Q.S.P. 1 mois\\nDIAMICRON 30 mg : 1 comp. le matin - Q.S.P. 1 mois\\nAvec tous mes remerciements,\\nBien confraternellement,\\nSommaire\\napplimed.free.fr/exemple.htm 6/829/10/2023 13:01 Dossier médical de Mme Marie EXEMPLE\\nVaccinations\\nDate Vaccin Injection Méthode Lot Résultat Rappel\\n20/05/1995 Tétavax R SC deltoïde G 20/05/2005\\nSommaire\\nExamens biologiques\\nDate Texte\\n22/10/2006 Glycémie 1.10 (g/l : 0,70-1,10)\\nCréatinine 9.5 (mg/l : 5,6-11,3)\\nNatrémie 143 (mEq/l : 135-145)\\nKaliémie 4.2 (mEq/l : 3,5-5,1)\\nCalcémie 99 (mg/l : 90-105)\\nPhosphorémie (mg/l : 25-50)\\nAc. urique 65 (mg/l : 25-60)\\nHb A1c 7,65 (%: 4,5-6,3)\\nCLAIRANCE DE LA CRÉATININE = 56 ml/mn (INSUFFISANCE RÉNALE MODÉRÉE)\\nEstimation de la glycémie moyenne sur 120 jours : 1,69 g/l (9,37 mmol/l)\\n11/06/2007 Hématies 4,56 (M/mm3: 4,2-5,4)\\nHémoglobine 14,8 (g/100 ml : 12-16)\\nHématocrite 43,5 (% 37-54)\\nVGM 92,4 (µ3 : 89-95)\\nLeucocytes 5520 (/mm3 : 4000-10000)\\nPN neutrophiles 59 (% : 55-70)\\nPN éosinophiles 3 (% : 0-3)\\nPN basophiles 0 (% : 0-1)\\nLymphocytes 30 (% : 20-35)\\nMonocytes 8 (% : 2-10)\\nPlaquettes 433000 (/mm3 : 150000-400000)\\nGlycémie 0,94 (g/l : 0,70-1,10)\\nCréatinine 10,5 (mg/l : 5,6-11,3)\\nCholestérol 2,81 (g/l : 1,2-2,0) **\\nCholestérol HDL 0,93 (g/l : 0,35-0,55)\\nCholestérol LDL 1,60 (g/l : < 1,60) *\\nTriglycérides 1,41 (g/l : 0,45-1,80)\\nFerritine 148 (µg / l : 30-300)\\nTSH-u.s. 3,11 (mU/l : 0,25-4,70)\\nClairance de la créatinine :\\nFormule de Cockroft-Gault : 49,70 ml/mn (insuffisance rénale modérée)\\nSommaire\\nPlanification\\nPrévu le Objet Fait le Périodicité Commentaire ou résultat\\napplimed.free.fr/exemple.htm 7/829/10/2023 13:01 Dossier médical de Mme Marie EXEMPLE\\n15/05/2003 Mammographie 20/03/2003 Biennale Normale.\\nSommaire\\nDocument généré par Publimed • Applimed - © Dr P. Elzière, 2012 - Tous droits réservés.\\napplimed.free.fr/exemple.htm 8/8\""
      ]
     },
     "execution_count": 25,
     "metadata": {},
     "output_type": "execute_result"
    }
   ],
   "source": [
    "extracted_text"
   ]
  },
  {
   "cell_type": "code",
   "execution_count": 26,
   "metadata": {},
   "outputs": [],
   "source": [
    "def save_text_to_file(text, output_file):\n",
    "    try:\n",
    "        with open(output_file, 'w', encoding='utf-8') as file:\n",
    "            file.write(text)\n",
    "        print(f\"Text saved to {output_file}\")\n",
    "    except Exception as e:\n",
    "        print(f\"Error saving text to file: {e}\")"
   ]
  },
  {
   "cell_type": "code",
   "execution_count": 28,
   "metadata": {},
   "outputs": [
    {
     "name": "stdout",
     "output_type": "stream",
     "text": [
      "Text saved to C:/Users/zaiss/OneDrive/Documents/GitHub/Projet_S2D/P0001/PDF/ordonnance.txt\n"
     ]
    }
   ],
   "source": [
    "save_text_to_file(extracted_text, \"C:/Users/zaiss/OneDrive/Documents/GitHub/Projet_S2D/P0001/PDF/ordonnance.txt\")"
   ]
  }
 ],
 "metadata": {
  "kernelspec": {
   "display_name": "Python 3",
   "language": "python",
   "name": "python3"
  },
  "language_info": {
   "codemirror_mode": {
    "name": "ipython",
    "version": 3
   },
   "file_extension": ".py",
   "mimetype": "text/x-python",
   "name": "python",
   "nbconvert_exporter": "python",
   "pygments_lexer": "ipython3",
   "version": "3.11.8"
  }
 },
 "nbformat": 4,
 "nbformat_minor": 2
}
