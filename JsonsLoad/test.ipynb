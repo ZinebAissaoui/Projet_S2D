{
 "cells": [
  {
   "cell_type": "code",
   "execution_count": 4,
   "metadata": {},
   "outputs": [],
   "source": [
    "import json"
   ]
  },
  {
   "cell_type": "code",
   "execution_count": 29,
   "metadata": {},
   "outputs": [],
   "source": [
    "dicPatient={'id': 'EXEMPLEMarie22/05/1939', 'Nom': 'EXEMPLE', 'Prénom': 'Marie', 'Date de naissance': '22/05/1939', 'Lieu de naissance': 'SÈTE', 'Adresse': '2, place de la République 34200 SÈTE', 'Téléphone': '04 67 46 00 33', 'E-mail': 'exemple@applimed.fr', 'Situation familiale': 'Mariée 2 enfants', 'Profession': 'Retraitée', 'sociale': '2 39 05 34 999 999 / 35', 'Allergies et intolérances': 'ALLERGIE À LA PÉNICILLINE'}"
   ]
  },
  {
   "cell_type": "code",
   "execution_count": 33,
   "metadata": {},
   "outputs": [],
   "source": [
    "def patient_Json(patient_Json_path, dictionnaire_patient):\n",
    "    newpatient = True\n",
    "    with open(patient_Json_path,\"r\") as f:\n",
    "            data_patient = json.load(f)\n",
    "           \n",
    "    patients=data_patient[\"patients\"] # listes des dictionnaires patients\n",
    "    \n",
    "    for index, patient in enumerate(patients):\n",
    "        \n",
    "         #Update du dictionnaire patient\n",
    "        if patient[\"id\"]==dictionnaire_patient[\"id\"]:\n",
    "            \n",
    "            newpatient=False\n",
    "            patients[index]=dictionnaire_patient\n",
    "            data_patient[\"patients\"]=patients\n",
    "            print(data_patient)\n",
    "    \n",
    "            break\n",
    "    if newpatient :\n",
    "        patients.append(dictionnaire_patient)\n",
    "        data_patient[\"patients\"]=patients\n",
    "    with open(patient_Json_path, \"w\",  encoding='utf-8') as data_file:\n",
    "        json.dump(data_patient, data_file, indent=2, ensure_ascii=False)"
   ]
  },
  {
   "cell_type": "code",
   "execution_count": 31,
   "metadata": {},
   "outputs": [],
   "source": [
    "patient_Json_path=\"C:/Users/zaiss/OneDrive/Documents/GitHub/Projet_S2D/JSONS/Patient.Json\""
   ]
  },
  {
   "cell_type": "code",
   "execution_count": 34,
   "metadata": {},
   "outputs": [
    {
     "name": "stdout",
     "output_type": "stream",
     "text": [
      "{'id': 'EXEMPLEMarie22/05/1939', 'Nom': 'EXEMPLE', 'PrÃ©nom': 'Marie', 'Date de naissance': '22/05/1939', 'Lieu de naissance': 'SÃˆTE', 'Adresse': '2, place de la RÃ©publique 34200 SÃˆTE', 'TÃ©lÃ©phone': '04 67 46 00 33', 'E-mail': 'exemple@applimed.fr', 'Situation familiale': 'MariÃ©e 2 enfants', 'Profession': 'RetraitÃ©e', 'sociale': '2 39 05 34 999 999 / 35', 'Allergies et intolÃ©rances': 'ALLERGIE Ã€ LA PÃ‰NICILLINE'}\n",
      "{'patients': {'id': 'EXEMPLEMarie22/05/1939', 'Nom': 'EXEMPLE', 'Prénom': 'Marie', 'Date de naissance': '22/05/1939', 'Lieu de naissance': 'SÈTE', 'Adresse': '2, place de la République 34200 SÈTE', 'Téléphone': '04 67 46 00 33', 'E-mail': 'exemple@applimed.fr', 'Situation familiale': 'Mariée 2 enfants', 'Profession': 'Retraitée', 'sociale': '2 39 05 34 999 999 / 35', 'Allergies et intolérances': 'ALLERGIE À LA PÉNICILLINE'}}\n"
     ]
    }
   ],
   "source": [
    "patient_Json(patient_Json_path, dicPatient)"
   ]
  },
  {
   "cell_type": "code",
   "execution_count": null,
   "metadata": {},
   "outputs": [],
   "source": []
  }
 ],
 "metadata": {
  "kernelspec": {
   "display_name": "Python 3",
   "language": "python",
   "name": "python3"
  },
  "language_info": {
   "codemirror_mode": {
    "name": "ipython",
    "version": 3
   },
   "file_extension": ".py",
   "mimetype": "text/x-python",
   "name": "python",
   "nbconvert_exporter": "python",
   "pygments_lexer": "ipython3",
   "version": "3.11.8"
  }
 },
 "nbformat": 4,
 "nbformat_minor": 2
}
